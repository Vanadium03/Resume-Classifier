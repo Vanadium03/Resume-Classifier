{
 "cells": [
  {
   "cell_type": "code",
   "execution_count": null,
   "id": "9302a827",
   "metadata": {},
   "outputs": [],
   "source": [
    "import os\n",
    "import cv2\n",
    "\n",
    "data_directory = '/Users/vaatsalyababbar/Desktop/Resume Classifier/DS'\n",
    "\n",
    "\n",
    "def load_images_and_labels(data_directory):\n",
    "    images = []\n",
    "    labels = []\n",
    "\n",
    "    for folder_name in os.listdir(data_directory):\n",
    "        folder_path = os.path.join(data_directory, folder_name)\n",
    "        if os.path.isdir(folder_path):\n",
    "            for image_name in os.listdir(folder_path):\n",
    "                image_path = os.path.join(folder_path, image_name)\n",
    "                img = cv2.imread(image_path)\n",
    "                images.append(img)\n",
    "                labels.append(folder_name)\n",
    "\n",
    "    return images, labels\n"
   ]
  }
 ],
 "metadata": {
  "kernelspec": {
   "display_name": "Python 3 (ipykernel)",
   "language": "python",
   "name": "python3"
  },
  "language_info": {
   "codemirror_mode": {
    "name": "ipython",
    "version": 3
   },
   "file_extension": ".py",
   "mimetype": "text/x-python",
   "name": "python",
   "nbconvert_exporter": "python",
   "pygments_lexer": "ipython3",
   "version": "3.9.7"
  }
 },
 "nbformat": 4,
 "nbformat_minor": 5
}
